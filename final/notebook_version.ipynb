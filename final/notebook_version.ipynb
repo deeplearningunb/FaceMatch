{
 "cells": [
  {
   "cell_type": "markdown",
   "metadata": {
    "colab_type": "text",
    "id": "3DR-eO17geWu"
   },
   "source": [
    "# Traffic Signs recognition with Convolutional Neural Networks"
   ]
  },
  {
   "cell_type": "code",
   "execution_count": 1,
   "metadata": {},
   "outputs": [
    {
     "name": "stdout",
     "output_type": "stream",
     "text": [
      "Collecting tensorflow\n",
      "  Downloading tensorflow-2.5.0-cp38-cp38-manylinux2010_x86_64.whl (454.4 MB)\n",
      "\u001b[K     |████████████████████████████████| 454.4 MB 38 kB/s s eta 0:00:01   |██                              | 27.3 MB 2.5 MB/s eta 0:02:49     |██▌                             | 35.0 MB 46.0 MB/s eta 0:00:10     |███▎                            | 46.1 MB 46.0 MB/s eta 0:00:09     |████                            | 57.2 MB 46.0 MB/s eta 0:00:09     |███████                         | 97.8 MB 32.5 MB/s eta 0:00:11     |████████▊                       | 124.0 MB 32.5 MB/s eta 0:00:11     |███████████▌                    | 163.8 MB 23.8 MB/s eta 0:00:13     |████████████▋                   | 179.6 MB 23.8 MB/s eta 0:00:12     |██████████████▋                 | 206.8 MB 35.9 MB/s eta 0:00:07     |███████████████                 | 214.3 MB 27.1 MB/s eta 0:00:09     |████████████████▌               | 235.0 MB 27.1 MB/s eta 0:00:09     |█████████████████               | 242.1 MB 27.1 MB/s eta 0:00:08     |████████████████████            | 283.4 MB 24.1 MB/s eta 0:00:08     |██████████████████████▉         | 323.9 MB 32.4 MB/s eta 0:00:05     |████████████████████████▏       | 343.2 MB 24.9 MB/s eta 0:00:05     |███████████████████████████████▋| 448.7 MB 22.5 MB/s eta 0:00:01\n",
      "\u001b[?25hCollecting keras\n",
      "  Downloading Keras-2.4.3-py2.py3-none-any.whl (36 kB)\n",
      "Requirement already satisfied: Pillow in /opt/conda/lib/python3.8/site-packages (8.1.1)\n",
      "Requirement already satisfied: pyyaml in /opt/conda/lib/python3.8/site-packages (from keras) (5.4.1)\n",
      "Requirement already satisfied: h5py in /opt/conda/lib/python3.8/site-packages (from keras) (3.1.0)\n",
      "Requirement already satisfied: numpy>=1.9.1 in /opt/conda/lib/python3.8/site-packages (from keras) (1.20.1)\n",
      "Requirement already satisfied: scipy>=0.14 in /opt/conda/lib/python3.8/site-packages (from keras) (1.6.0)\n",
      "Collecting gast==0.4.0\n",
      "  Downloading gast-0.4.0-py3-none-any.whl (9.8 kB)\n",
      "Requirement already satisfied: protobuf>=3.9.2 in /opt/conda/lib/python3.8/site-packages (from tensorflow) (3.15.4)\n",
      "Collecting wrapt~=1.12.1\n",
      "  Downloading wrapt-1.12.1.tar.gz (27 kB)\n",
      "Collecting absl-py~=0.10\n",
      "  Downloading absl_py-0.12.0-py3-none-any.whl (129 kB)\n",
      "\u001b[K     |████████████████████████████████| 129 kB 26.7 MB/s eta 0:00:01\n",
      "\u001b[?25hCollecting numpy>=1.9.1\n",
      "  Downloading numpy-1.19.5-cp38-cp38-manylinux2010_x86_64.whl (14.9 MB)\n",
      "\u001b[K     |████████████████████████████████| 14.9 MB 19 kB/s s eta 0:00:01    |███████████████▎                | 7.1 MB 32.7 MB/s eta 0:00:01\n",
      "\u001b[?25hCollecting google-pasta~=0.2\n",
      "  Downloading google_pasta-0.2.0-py3-none-any.whl (57 kB)\n",
      "\u001b[K     |████████████████████████████████| 57 kB 4.0 MB/s eta 0:00:01\n",
      "\u001b[?25hRequirement already satisfied: wheel~=0.35 in /opt/conda/lib/python3.8/site-packages (from tensorflow) (0.36.2)\n",
      "Collecting termcolor~=1.1.0\n",
      "  Downloading termcolor-1.1.0.tar.gz (3.9 kB)\n",
      "Collecting opt-einsum~=3.3.0\n",
      "  Downloading opt_einsum-3.3.0-py3-none-any.whl (65 kB)\n",
      "\u001b[K     |████████████████████████████████| 65 kB 423 kB/s  eta 0:00:01\n",
      "\u001b[?25hRequirement already satisfied: six~=1.15.0 in /opt/conda/lib/python3.8/site-packages (from tensorflow) (1.15.0)\n",
      "Collecting tensorboard~=2.5\n",
      "  Downloading tensorboard-2.5.0-py3-none-any.whl (6.0 MB)\n",
      "\u001b[K     |████████████████████████████████| 6.0 MB 49 kB/s s eta 0:00:01     |██████████████▏                 | 2.7 MB 12.7 MB/s eta 0:00:01     |██████████████████████▉         | 4.3 MB 12.7 MB/s eta 0:00:01     |██████████████████████████████▊ | 5.8 MB 12.7 MB/s eta 0:00:01\n",
      "\u001b[?25hCollecting keras-nightly~=2.5.0.dev\n",
      "  Downloading keras_nightly-2.5.0.dev2021032900-py2.py3-none-any.whl (1.2 MB)\n",
      "\u001b[K     |████████████████████████████████| 1.2 MB 4.6 MB/s eta 0:00:01\n",
      "\u001b[?25hCollecting tensorflow-estimator<2.6.0,>=2.5.0rc0\n",
      "  Downloading tensorflow_estimator-2.5.0-py2.py3-none-any.whl (462 kB)\n",
      "\u001b[K     |████████████████████████████████| 462 kB 3.9 MB/s eta 0:00:01\n",
      "\u001b[?25hCollecting flatbuffers~=1.12.0\n",
      "  Downloading flatbuffers-1.12-py2.py3-none-any.whl (15 kB)\n",
      "Collecting keras-preprocessing~=1.1.2\n",
      "  Downloading Keras_Preprocessing-1.1.2-py2.py3-none-any.whl (42 kB)\n",
      "\u001b[K     |████████████████████████████████| 42 kB 4.8 kB/s eta 0:00:01\n",
      "\u001b[?25hCollecting astunparse~=1.6.3\n",
      "  Downloading astunparse-1.6.3-py2.py3-none-any.whl (12 kB)\n",
      "Collecting grpcio~=1.34.0\n",
      "  Downloading grpcio-1.34.1-cp38-cp38-manylinux2014_x86_64.whl (4.0 MB)\n",
      "\u001b[K     |████████████████████████████████| 4.0 MB 6.4 kB/s  eta 0:00:01\n",
      "\u001b[?25hRequirement already satisfied: typing-extensions~=3.7.4 in /opt/conda/lib/python3.8/site-packages (from tensorflow) (3.7.4.3)\n",
      "Collecting tensorboard-data-server<0.7.0,>=0.6.0\n",
      "  Downloading tensorboard_data_server-0.6.1-py3-none-manylinux2010_x86_64.whl (4.9 MB)\n",
      "\u001b[K     |████████████████████████████████| 4.9 MB 10.7 MB/s eta 0:00:01\n",
      "\u001b[?25hCollecting werkzeug>=0.11.15\n",
      "  Downloading Werkzeug-2.0.1-py3-none-any.whl (288 kB)\n",
      "\u001b[K     |████████████████████████████████| 288 kB 5.0 MB/s eta 0:00:01\n",
      "\u001b[?25hRequirement already satisfied: setuptools>=41.0.0 in /opt/conda/lib/python3.8/site-packages (from tensorboard~=2.5->tensorflow) (49.6.0.post20210108)\n",
      "Collecting markdown>=2.6.8\n",
      "  Downloading Markdown-3.3.4-py3-none-any.whl (97 kB)\n",
      "\u001b[K     |████████████████████████████████| 97 kB 9.9 MB/s  eta 0:00:01\n",
      "\u001b[?25hCollecting google-auth<2,>=1.6.3\n",
      "  Downloading google_auth-1.30.0-py2.py3-none-any.whl (146 kB)\n",
      "\u001b[K     |████████████████████████████████| 146 kB 32.6 MB/s eta 0:00:01\n",
      "\u001b[?25hRequirement already satisfied: requests<3,>=2.21.0 in /opt/conda/lib/python3.8/site-packages (from tensorboard~=2.5->tensorflow) (2.25.1)\n",
      "Collecting tensorboard-plugin-wit>=1.6.0\n",
      "  Downloading tensorboard_plugin_wit-1.8.0-py3-none-any.whl (781 kB)\n",
      "\u001b[K     |████████████████████████████████| 781 kB 19.7 MB/s eta 0:00:01\n",
      "\u001b[?25hCollecting google-auth-oauthlib<0.5,>=0.4.1\n",
      "  Downloading google_auth_oauthlib-0.4.4-py2.py3-none-any.whl (18 kB)\n",
      "Collecting cachetools<5.0,>=2.0.0\n",
      "  Downloading cachetools-4.2.2-py3-none-any.whl (11 kB)\n",
      "Collecting rsa<5,>=3.1.4\n",
      "  Downloading rsa-4.7.2-py3-none-any.whl (34 kB)\n",
      "Collecting pyasn1-modules>=0.2.1\n",
      "  Downloading pyasn1_modules-0.2.8-py2.py3-none-any.whl (155 kB)\n",
      "\u001b[K     |████████████████████████████████| 155 kB 11.1 MB/s eta 0:00:01\n",
      "\u001b[?25hCollecting requests-oauthlib>=0.7.0\n",
      "  Downloading requests_oauthlib-1.3.0-py2.py3-none-any.whl (23 kB)\n",
      "Collecting pyasn1<0.5.0,>=0.4.6\n",
      "  Downloading pyasn1-0.4.8-py2.py3-none-any.whl (77 kB)\n",
      "\u001b[K     |████████████████████████████████| 77 kB 7.9 MB/s  eta 0:00:01\n",
      "\u001b[?25hRequirement already satisfied: idna<3,>=2.5 in /opt/conda/lib/python3.8/site-packages (from requests<3,>=2.21.0->tensorboard~=2.5->tensorflow) (2.10)\n",
      "Requirement already satisfied: chardet<5,>=3.0.2 in /opt/conda/lib/python3.8/site-packages (from requests<3,>=2.21.0->tensorboard~=2.5->tensorflow) (4.0.0)\n",
      "Requirement already satisfied: certifi>=2017.4.17 in /opt/conda/lib/python3.8/site-packages (from requests<3,>=2.21.0->tensorboard~=2.5->tensorflow) (2020.12.5)\n",
      "Requirement already satisfied: urllib3<1.27,>=1.21.1 in /opt/conda/lib/python3.8/site-packages (from requests<3,>=2.21.0->tensorboard~=2.5->tensorflow) (1.26.3)\n",
      "Requirement already satisfied: oauthlib>=3.0.0 in /opt/conda/lib/python3.8/site-packages (from requests-oauthlib>=0.7.0->google-auth-oauthlib<0.5,>=0.4.1->tensorboard~=2.5->tensorflow) (3.0.1)\n",
      "Building wheels for collected packages: termcolor, wrapt\n",
      "  Building wheel for termcolor (setup.py) ... \u001b[?25ldone\n",
      "\u001b[?25h  Created wheel for termcolor: filename=termcolor-1.1.0-py3-none-any.whl size=4829 sha256=a4367527817bf0b6ef377eca5cac68bd31b56030f108c729007eefb73aa67ddc\n",
      "  Stored in directory: /home/jovyan/.cache/pip/wheels/a0/16/9c/5473df82468f958445479c59e784896fa24f4a5fc024b0f501\n",
      "  Building wheel for wrapt (setup.py) ... \u001b[?25ldone\n",
      "\u001b[?25h  Created wheel for wrapt: filename=wrapt-1.12.1-cp38-cp38-linux_x86_64.whl size=81777 sha256=7ec6696d52b36921a8ab7abad1c17e3e10a5c8a201c4d97f810de731ab3ff4fa\n",
      "  Stored in directory: /home/jovyan/.cache/pip/wheels/5f/fd/9e/b6cf5890494cb8ef0b5eaff72e5d55a70fb56316007d6dfe73\n",
      "Successfully built termcolor wrapt\n",
      "Installing collected packages: pyasn1, rsa, pyasn1-modules, cachetools, requests-oauthlib, google-auth, werkzeug, tensorboard-plugin-wit, tensorboard-data-server, numpy, markdown, grpcio, google-auth-oauthlib, absl-py, wrapt, termcolor, tensorflow-estimator, tensorboard, opt-einsum, keras-preprocessing, keras-nightly, google-pasta, gast, flatbuffers, astunparse, tensorflow, keras\n"
     ]
    },
    {
     "name": "stdout",
     "output_type": "stream",
     "text": [
      "  Attempting uninstall: numpy\n",
      "    Found existing installation: numpy 1.20.1\n",
      "    Uninstalling numpy-1.20.1:\n",
      "      Successfully uninstalled numpy-1.20.1\n",
      "Successfully installed absl-py-0.12.0 astunparse-1.6.3 cachetools-4.2.2 flatbuffers-1.12 gast-0.4.0 google-auth-1.30.0 google-auth-oauthlib-0.4.4 google-pasta-0.2.0 grpcio-1.34.1 keras-2.4.3 keras-nightly-2.5.0.dev2021032900 keras-preprocessing-1.1.2 markdown-3.3.4 numpy-1.19.5 opt-einsum-3.3.0 pyasn1-0.4.8 pyasn1-modules-0.2.8 requests-oauthlib-1.3.0 rsa-4.7.2 tensorboard-2.5.0 tensorboard-data-server-0.6.1 tensorboard-plugin-wit-1.8.0 tensorflow-2.5.0 tensorflow-estimator-2.5.0 termcolor-1.1.0 werkzeug-2.0.1 wrapt-1.12.1\n"
     ]
    }
   ],
   "source": [
    "!pip install tensorflow keras Pillow"
   ]
  },
  {
   "cell_type": "code",
   "execution_count": 1,
   "metadata": {
    "colab": {},
    "colab_type": "code",
    "id": "sCV30xyVhFbE"
   },
   "outputs": [],
   "source": [
    "import tensorflow as tf\n",
    "from keras.preprocessing.image import ImageDataGenerator\n",
    "import numpy as np\n",
    "from keras.preprocessing import image"
   ]
  },
  {
   "cell_type": "markdown",
   "metadata": {
    "colab_type": "text",
    "id": "MvE-heJNo3GG"
   },
   "source": [
    "### Preprocessing the Training set and splitting the test set"
   ]
  },
  {
   "cell_type": "code",
   "execution_count": 5,
   "metadata": {
    "colab": {},
    "colab_type": "code",
    "id": "0koUcJMJpEBD"
   },
   "outputs": [
    {
     "name": "stdout",
     "output_type": "stream",
     "text": [
      "Found 878 images belonging to 33 classes.\n",
      "Found 351 images belonging to 33 classes.\n"
     ]
    }
   ],
   "source": [
    "train_datagen = ImageDataGenerator(rescale = 1./255,\n",
    "                                   shear_range = 0.2,\n",
    "                                   zoom_range = 0.2,\n",
    "                                   horizontal_flip = True,\n",
    "                                   validation_split=0.3\n",
    "                                  )\n",
    "training_set = train_datagen.flow_from_directory(\n",
    "    'initial-dataset',\n",
    "    target_size = (64, 64),\n",
    "    batch_size = 64,\n",
    "    class_mode = 'categorical',\n",
    "    subset='training') # set as training data\n",
    "\n",
    "test_set = train_datagen.flow_from_directory(\n",
    "    'initial-dataset',\n",
    "    target_size = (64, 64),\n",
    "    batch_size = 64,\n",
    "    class_mode = 'categorical',\n",
    "    subset='validation') # set as validation data\n"
   ]
  },
  {
   "cell_type": "markdown",
   "metadata": {
    "colab_type": "text",
    "id": "ces1gXY2lmoX"
   },
   "source": [
    "### Initialising the CNN"
   ]
  },
  {
   "cell_type": "code",
   "execution_count": 6,
   "metadata": {
    "colab": {},
    "colab_type": "code",
    "id": "SAUt4UMPlhLS"
   },
   "outputs": [],
   "source": [
    "cnn = tf.keras.models.Sequential()"
   ]
  },
  {
   "cell_type": "markdown",
   "metadata": {
    "colab_type": "text",
    "id": "u5YJj_XMl5LF"
   },
   "source": [
    "###  Convolution"
   ]
  },
  {
   "cell_type": "code",
   "execution_count": 7,
   "metadata": {
    "colab": {},
    "colab_type": "code",
    "id": "XPzPrMckl-hV"
   },
   "outputs": [],
   "source": [
    "cnn.add(tf.keras.layers.Conv2D(filters=33, kernel_size=(5,5), activation='relu', input_shape=[64, 64, 3]))\n",
    "cnn.add(tf.keras.layers.Conv2D(filters=33, kernel_size=(5,5), activation='relu'))"
   ]
  },
  {
   "cell_type": "markdown",
   "metadata": {
    "colab_type": "text",
    "id": "tf87FpvxmNOJ"
   },
   "source": [
    "###  Pooling"
   ]
  },
  {
   "cell_type": "code",
   "execution_count": 8,
   "metadata": {
    "colab": {},
    "colab_type": "code",
    "id": "ncpqPl69mOac"
   },
   "outputs": [],
   "source": [
    "cnn.add(tf.keras.layers.MaxPool2D(pool_size=2, strides=2))\n",
    "cnn.add(tf.keras.layers.Dropout(rate=0.25))\n"
   ]
  },
  {
   "cell_type": "markdown",
   "metadata": {
    "colab_type": "text",
    "id": "xaTOgD8rm4mU"
   },
   "source": [
    "### Adding a second convolutional layer"
   ]
  },
  {
   "cell_type": "code",
   "execution_count": 9,
   "metadata": {
    "colab": {},
    "colab_type": "code",
    "id": "i_-FZjn_m8gk"
   },
   "outputs": [],
   "source": [
    "\n",
    "cnn.add(tf.keras.layers.Conv2D(filters=64, kernel_size=(3, 3), activation='relu'))\n",
    "cnn.add(tf.keras.layers.Conv2D(filters=64, kernel_size=(3, 3), activation='relu'))\n",
    "cnn.add(tf.keras.layers.MaxPool2D(pool_size=(2, 2)))\n",
    "cnn.add(tf.keras.layers.Dropout(rate=0.25))"
   ]
  },
  {
   "cell_type": "markdown",
   "metadata": {
    "colab_type": "text",
    "id": "tmiEuvTunKfk"
   },
   "source": [
    "### Flattening"
   ]
  },
  {
   "cell_type": "code",
   "execution_count": 10,
   "metadata": {
    "colab": {},
    "colab_type": "code",
    "id": "6AZeOGCvnNZn"
   },
   "outputs": [],
   "source": [
    "cnn.add(tf.keras.layers.Flatten())"
   ]
  },
  {
   "cell_type": "markdown",
   "metadata": {
    "colab_type": "text",
    "id": "yTldFvbX28Na"
   },
   "source": [
    "### Output Layer"
   ]
  },
  {
   "cell_type": "code",
   "execution_count": 11,
   "metadata": {
    "colab": {},
    "colab_type": "code",
    "id": "1p_Zj1Mc3Ko_"
   },
   "outputs": [],
   "source": [
    "cnn.add(tf.keras.layers.Dropout(rate=0.5))\n",
    "cnn.add(tf.keras.layers.Dense(33, activation='softmax'))"
   ]
  },
  {
   "cell_type": "markdown",
   "metadata": {
    "colab_type": "text",
    "id": "D6XkI90snSDl"
   },
   "source": [
    "## Training and evaluating the CNN"
   ]
  },
  {
   "cell_type": "code",
   "execution_count": 13,
   "metadata": {
    "colab": {},
    "colab_type": "code",
    "id": "XUj1W4PJptta"
   },
   "outputs": [
    {
     "name": "stdout",
     "output_type": "stream",
     "text": [
      "Epoch 1/25\n",
      "14/14 [==============================] - 10s 686ms/step - loss: 2.7349 - accuracy: 0.2847 - val_loss: 2.7715 - val_accuracy: 0.3248\n",
      "Epoch 2/25\n",
      "14/14 [==============================] - 9s 649ms/step - loss: 2.5449 - accuracy: 0.3052 - val_loss: 2.7583 - val_accuracy: 0.3248\n",
      "Epoch 3/25\n",
      "14/14 [==============================] - 9s 653ms/step - loss: 2.4104 - accuracy: 0.3155 - val_loss: 2.4221 - val_accuracy: 0.4188\n",
      "Epoch 4/25\n",
      "14/14 [==============================] - 9s 684ms/step - loss: 2.1825 - accuracy: 0.3998 - val_loss: 2.0074 - val_accuracy: 0.5698\n",
      "Epoch 5/25\n",
      "14/14 [==============================] - 9s 647ms/step - loss: 1.7663 - accuracy: 0.5513 - val_loss: 1.9381 - val_accuracy: 0.5299\n",
      "Epoch 6/25\n",
      "14/14 [==============================] - 9s 652ms/step - loss: 1.3822 - accuracy: 0.6207 - val_loss: 1.0682 - val_accuracy: 0.7578\n",
      "Epoch 7/25\n",
      "14/14 [==============================] - 9s 666ms/step - loss: 1.0036 - accuracy: 0.7005 - val_loss: 0.8843 - val_accuracy: 0.7436\n",
      "Epoch 8/25\n",
      "14/14 [==============================] - 11s 779ms/step - loss: 0.7943 - accuracy: 0.7665 - val_loss: 0.6345 - val_accuracy: 0.7949\n",
      "Epoch 9/25\n",
      "14/14 [==============================] - 11s 792ms/step - loss: 0.7021 - accuracy: 0.7756 - val_loss: 0.4476 - val_accuracy: 0.8547\n",
      "Epoch 10/25\n",
      "14/14 [==============================] - 10s 724ms/step - loss: 0.6359 - accuracy: 0.7882 - val_loss: 0.4563 - val_accuracy: 0.8860\n",
      "Epoch 11/25\n",
      "14/14 [==============================] - 10s 695ms/step - loss: 0.5123 - accuracy: 0.8508 - val_loss: 0.3743 - val_accuracy: 0.8746\n",
      "Epoch 12/25\n",
      "14/14 [==============================] - 10s 719ms/step - loss: 0.3963 - accuracy: 0.8690 - val_loss: 0.3351 - val_accuracy: 0.8775\n",
      "Epoch 13/25\n",
      "14/14 [==============================] - 10s 716ms/step - loss: 0.4154 - accuracy: 0.8781 - val_loss: 0.3061 - val_accuracy: 0.9003\n",
      "Epoch 14/25\n",
      "14/14 [==============================] - 9s 668ms/step - loss: 0.3460 - accuracy: 0.8850 - val_loss: 0.4080 - val_accuracy: 0.8547\n",
      "Epoch 15/25\n",
      "14/14 [==============================] - 9s 668ms/step - loss: 0.3230 - accuracy: 0.8895 - val_loss: 0.3374 - val_accuracy: 0.8889\n",
      "Epoch 16/25\n",
      "14/14 [==============================] - 10s 740ms/step - loss: 0.3190 - accuracy: 0.8986 - val_loss: 0.2594 - val_accuracy: 0.8974\n",
      "Epoch 17/25\n",
      "14/14 [==============================] - 9s 656ms/step - loss: 0.3194 - accuracy: 0.9032 - val_loss: 0.2481 - val_accuracy: 0.9288\n",
      "Epoch 18/25\n",
      "14/14 [==============================] - 9s 671ms/step - loss: 0.1994 - accuracy: 0.9396 - val_loss: 0.3060 - val_accuracy: 0.9031\n",
      "Epoch 19/25\n",
      "14/14 [==============================] - 9s 639ms/step - loss: 0.2517 - accuracy: 0.9180 - val_loss: 0.2598 - val_accuracy: 0.9088\n",
      "Epoch 20/25\n",
      "14/14 [==============================] - 9s 652ms/step - loss: 0.2417 - accuracy: 0.9191 - val_loss: 0.2436 - val_accuracy: 0.9288\n",
      "Epoch 21/25\n",
      "14/14 [==============================] - 9s 657ms/step - loss: 0.2181 - accuracy: 0.9180 - val_loss: 0.2097 - val_accuracy: 0.9288\n",
      "Epoch 22/25\n",
      "14/14 [==============================] - 9s 655ms/step - loss: 0.2152 - accuracy: 0.9271 - val_loss: 0.2131 - val_accuracy: 0.9316\n",
      "Epoch 23/25\n",
      "14/14 [==============================] - 9s 643ms/step - loss: 0.2386 - accuracy: 0.9203 - val_loss: 0.2744 - val_accuracy: 0.9060\n",
      "Epoch 24/25\n",
      "14/14 [==============================] - 9s 646ms/step - loss: 0.2754 - accuracy: 0.9157 - val_loss: 0.2869 - val_accuracy: 0.9174\n",
      "Epoch 25/25\n",
      "14/14 [==============================] - 9s 637ms/step - loss: 0.2257 - accuracy: 0.9339 - val_loss: 0.2052 - val_accuracy: 0.9259\n"
     ]
    },
    {
     "data": {
      "text/plain": [
       "<tensorflow.python.keras.callbacks.History at 0x7ff7fca13910>"
      ]
     },
     "execution_count": 13,
     "metadata": {},
     "output_type": "execute_result"
    }
   ],
   "source": [
    "cnn.compile(optimizer = 'adam', loss = 'categorical_crossentropy', metrics = ['accuracy'])\n",
    "cnn.fit(x = training_set, validation_data = test_set, epochs = 25)"
   ]
  },
  {
   "cell_type": "markdown",
   "metadata": {
    "colab_type": "text",
    "id": "U3PZasO0006Z"
   },
   "source": [
    "## Making a single prediction"
   ]
  },
  {
   "cell_type": "code",
   "execution_count": 14,
   "metadata": {
    "colab": {},
    "colab_type": "code",
    "id": "gsSiWEJY1BPB"
   },
   "outputs": [
    {
     "name": "stderr",
     "output_type": "stream",
     "text": [
      "/opt/conda/lib/python3.8/site-packages/PIL/Image.py:962: UserWarning: Palette images with Transparency expressed in bytes should be converted to RGBA images\n",
      "  warnings.warn(\n"
     ]
    }
   ],
   "source": [
    "\n",
    "test_image = image.load_img('dataset/single_prediction/40.jpg', target_size = (64, 64))\n",
    "test_image = image.img_to_array(test_image)\n",
    "test_image = np.expand_dims(test_image, axis = 0)\n",
    "result = cnn.predict(test_image)\n",
    "classes = {'altura_maxima_permitida': 0, 'area_reservada_para_motos': 1, 'desvio_a_frente': 2, 'estreitamento_de_pista': 3, 'fiscalizacao_eletronica_horizontal_60_km': 4, 'fiscalizacao_eletronica_vertical_50_km': 5, 'fiscalizacao_eletronica_vertical_60_km': 6, 'lombada': 7, 'marcas_de_perigo': 8, 'pare': 9, 'passagem_sinalizada_de_escolares': 10, 'passagem_sinalizada_de_pedestres': 11, 'placa_de_orientacao_de_destino': 12, 'ponto_de_onibus': 13, 'proibido_estacionar': 14, 'proibido_parar_e_estacionar': 15, 'proibido_retornar_a_esquerda': 16, 'proibido_trafego_de_caminhoes': 17, 'proibido_virar_a_direita': 18, 'proibido_virar_a_direita_veiculos_pesados': 19, 'proibido_virar_a_esquerda': 20, 'rotatoria': 21, 'rotatoria_a_frente': 22, 'semaforo_a_frente': 23, 'siga_em_frente': 24, 'siga_em_frente_ou_a_direita': 25, 'siga_em_frente_ou_a_esquerda': 26, 'velocidade_maxima_30_km': 27, 'velocidade_maxima_40_km': 28, 'velocidade_maxima_50_km': 29, 'velocidade_maxima_60_km': 30, 'vire_a_direita': 31, 'vire_a_esquerda': 32}\n",
    "inv_map = {v: k for k, v in classes.items()}\n",
    "inv_map[np.where(result == 1)[1][0]]"
   ]
  },
  {
   "cell_type": "markdown",
   "metadata": {},
   "source": [
    "## Persisting the model"
   ]
  },
  {
   "cell_type": "code",
   "execution_count": 21,
   "metadata": {},
   "outputs": [
    {
     "name": "stdout",
     "output_type": "stream",
     "text": [
      "INFO:tensorflow:Assets written to: saved_model/traffic_signs_model/assets\n"
     ]
    }
   ],
   "source": [
    "cnn.save('saved_model/traffic_signs_model')\n",
    "#new_model = tf.keras.models.load_model('saved_model/traffic_signs_model')\n"
   ]
  },
  {
   "cell_type": "markdown",
   "metadata": {},
   "source": [
    "## Fim"
   ]
  }
 ],
 "metadata": {
  "colab": {
   "collapsed_sections": [],
   "name": "convolutional_neural_network.ipynb",
   "provenance": [],
   "toc_visible": true
  },
  "kernelspec": {
   "display_name": "Python 3",
   "language": "python",
   "name": "python3"
  },
  "language_info": {
   "codemirror_mode": {
    "name": "ipython",
    "version": 3
   },
   "file_extension": ".py",
   "mimetype": "text/x-python",
   "name": "python",
   "nbconvert_exporter": "python",
   "pygments_lexer": "ipython3",
   "version": "3.8.8"
  }
 },
 "nbformat": 4,
 "nbformat_minor": 4
}
