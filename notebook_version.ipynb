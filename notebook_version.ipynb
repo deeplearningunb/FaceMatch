{
 "cells": [
  {
   "cell_type": "markdown",
   "metadata": {
    "colab_type": "text",
    "id": "3DR-eO17geWu"
   },
   "source": [
    "# Traffic Signs recognition with Convolutional Neural Networks"
   ]
  },
  {
   "cell_type": "code",
   "execution_count": 3,
   "metadata": {},
   "outputs": [
    {
     "name": "stdout",
     "output_type": "stream",
     "text": [
      "Collecting tensorflow\n",
      "  Downloading tensorflow-2.5.0-cp38-cp38-manylinux2010_x86_64.whl (454.4 MB)\n",
      "\u001b[K     |████████████████████████████████| 454.4 MB 14 kB/s s eta 0:00:01    |███▌                            | 49.6 MB 29.8 MB/s eta 0:00:14     |██████▏                         | 86.9 MB 39.4 MB/s eta 0:00:10     |███████████████▋                | 222.0 MB 18.5 MB/s eta 0:00:13     |████████████████                | 226.5 MB 18.5 MB/s eta 0:00:13     |████████████████▌               | 233.7 MB 29.8 MB/s eta 0:00:08     |█████████████████               | 240.8 MB 29.8 MB/s eta 0:00:08     |█████████████████▎              | 245.5 MB 29.8 MB/s eta 0:00:07     |█████████████████▋              | 250.3 MB 29.8 MB/s eta 0:00:07     |██████████████████              | 256.5 MB 29.8 MB/s eta 0:00:07     |██████████████████▌             | 262.3 MB 41.3 MB/s eta 0:00:05     |███████████████████▏            | 272.3 MB 41.3 MB/s eta 0:00:05     |███████████████████████▍        | 331.6 MB 30.9 MB/s eta 0:00:04     |████████████████████████▎       | 345.1 MB 30.9 MB/s eta 0:00:04     |██████████████████████████▉     | 381.2 MB 31.0 MB/s eta 0:00:03     |████████████████████████████▋   | 406.8 MB 28.5 MB/s eta 0:00:02     |███████████████████████████████▉| 452.7 MB 22.0 MB/s eta 0:00:01\n",
      "\u001b[?25hCollecting keras\n",
      "  Downloading Keras-2.4.3-py2.py3-none-any.whl (36 kB)\n",
      "Requirement already satisfied: Pillow in /opt/conda/lib/python3.8/site-packages (8.1.1)\n",
      "Requirement already satisfied: h5py in /opt/conda/lib/python3.8/site-packages (from keras) (3.1.0)\n",
      "Requirement already satisfied: scipy>=0.14 in /opt/conda/lib/python3.8/site-packages (from keras) (1.6.0)\n",
      "Requirement already satisfied: numpy>=1.9.1 in /opt/conda/lib/python3.8/site-packages (from keras) (1.20.1)\n",
      "Requirement already satisfied: pyyaml in /opt/conda/lib/python3.8/site-packages (from keras) (5.4.1)\n",
      "Collecting absl-py~=0.10\n",
      "  Downloading absl_py-0.12.0-py3-none-any.whl (129 kB)\n",
      "\u001b[K     |████████████████████████████████| 129 kB 21.5 MB/s eta 0:00:01\n",
      "\u001b[?25hCollecting numpy>=1.9.1\n",
      "  Downloading numpy-1.19.5-cp38-cp38-manylinux2010_x86_64.whl (14.9 MB)\n",
      "\u001b[K     |████████████████████████████████| 14.9 MB 23.6 MB/s eta 0:00:01     |█████████████████████████       | 11.6 MB 23.6 MB/s eta 0:00:01\n",
      "\u001b[?25hCollecting keras-preprocessing~=1.1.2\n",
      "  Downloading Keras_Preprocessing-1.1.2-py2.py3-none-any.whl (42 kB)\n",
      "\u001b[K     |████████████████████████████████| 42 kB 2.3 MB/s  eta 0:00:01\n",
      "\u001b[?25hCollecting gast==0.4.0\n",
      "  Downloading gast-0.4.0-py3-none-any.whl (9.8 kB)\n",
      "Collecting google-pasta~=0.2\n",
      "  Downloading google_pasta-0.2.0-py3-none-any.whl (57 kB)\n",
      "\u001b[K     |████████████████████████████████| 57 kB 8.1 MB/s  eta 0:00:01\n",
      "\u001b[?25hRequirement already satisfied: typing-extensions~=3.7.4 in /opt/conda/lib/python3.8/site-packages (from tensorflow) (3.7.4.3)\n",
      "Collecting astunparse~=1.6.3\n",
      "  Downloading astunparse-1.6.3-py2.py3-none-any.whl (12 kB)\n",
      "Collecting termcolor~=1.1.0\n",
      "  Downloading termcolor-1.1.0.tar.gz (3.9 kB)\n",
      "Collecting keras-nightly~=2.5.0.dev\n",
      "  Downloading keras_nightly-2.5.0.dev2021032900-py2.py3-none-any.whl (1.2 MB)\n",
      "\u001b[K     |████████████████████████████████| 1.2 MB 16.8 MB/s eta 0:00:01\n",
      "\u001b[?25hCollecting tensorboard~=2.5\n",
      "  Downloading tensorboard-2.5.0-py3-none-any.whl (6.0 MB)\n",
      "\u001b[K     |████████████████████████████████| 6.0 MB 8.7 MB/s eta 0:00:01     |██████████████████▍             | 3.5 MB 8.7 MB/s eta 0:00:01\n",
      "\u001b[?25hCollecting flatbuffers~=1.12.0\n",
      "  Downloading flatbuffers-1.12-py2.py3-none-any.whl (15 kB)\n",
      "Requirement already satisfied: six~=1.15.0 in /opt/conda/lib/python3.8/site-packages (from tensorflow) (1.15.0)\n",
      "Collecting grpcio~=1.34.0\n",
      "  Downloading grpcio-1.34.1-cp38-cp38-manylinux2014_x86_64.whl (4.0 MB)\n",
      "\u001b[K     |████████████████████████████████| 4.0 MB 31.5 MB/s eta 0:00:01\n",
      "\u001b[?25hCollecting opt-einsum~=3.3.0\n",
      "  Downloading opt_einsum-3.3.0-py3-none-any.whl (65 kB)\n",
      "\u001b[K     |████████████████████████████████| 65 kB 6.8 MB/s  eta 0:00:01\n",
      "\u001b[?25hRequirement already satisfied: wheel~=0.35 in /opt/conda/lib/python3.8/site-packages (from tensorflow) (0.36.2)\n",
      "Requirement already satisfied: protobuf>=3.9.2 in /opt/conda/lib/python3.8/site-packages (from tensorflow) (3.15.4)\n",
      "Collecting wrapt~=1.12.1\n",
      "  Downloading wrapt-1.12.1.tar.gz (27 kB)\n",
      "Collecting tensorflow-estimator<2.6.0,>=2.5.0rc0\n",
      "  Downloading tensorflow_estimator-2.5.0-py2.py3-none-any.whl (462 kB)\n",
      "\u001b[K     |████████████████████████████████| 462 kB 18.6 MB/s eta 0:00:01\n",
      "\u001b[?25hRequirement already satisfied: requests<3,>=2.21.0 in /opt/conda/lib/python3.8/site-packages (from tensorboard~=2.5->tensorflow) (2.25.1)\n",
      "Collecting werkzeug>=0.11.15\n",
      "  Downloading Werkzeug-2.0.1-py3-none-any.whl (288 kB)\n",
      "\u001b[K     |████████████████████████████████| 288 kB 24.7 MB/s eta 0:00:01\n",
      "\u001b[?25hCollecting tensorboard-plugin-wit>=1.6.0\n",
      "  Downloading tensorboard_plugin_wit-1.8.0-py3-none-any.whl (781 kB)\n",
      "\u001b[K     |████████████████████████████████| 781 kB 5.6 MB/s eta 0:00:01\n",
      "\u001b[?25hCollecting markdown>=2.6.8\n",
      "  Downloading Markdown-3.3.4-py3-none-any.whl (97 kB)\n",
      "\u001b[K     |████████████████████████████████| 97 kB 9.5 MB/s  eta 0:00:01\n",
      "\u001b[?25hCollecting google-auth<2,>=1.6.3\n",
      "  Downloading google_auth-1.30.0-py2.py3-none-any.whl (146 kB)\n",
      "\u001b[K     |████████████████████████████████| 146 kB 22.9 MB/s eta 0:00:01\n",
      "\u001b[?25hCollecting tensorboard-data-server<0.7.0,>=0.6.0\n",
      "  Downloading tensorboard_data_server-0.6.1-py3-none-manylinux2010_x86_64.whl (4.9 MB)\n",
      "\u001b[K     |████████████████████████████████| 4.9 MB 21.6 MB/s eta 0:00:01\n",
      "\u001b[?25hRequirement already satisfied: setuptools>=41.0.0 in /opt/conda/lib/python3.8/site-packages (from tensorboard~=2.5->tensorflow) (49.6.0.post20210108)\n",
      "Collecting google-auth-oauthlib<0.5,>=0.4.1\n",
      "  Downloading google_auth_oauthlib-0.4.4-py2.py3-none-any.whl (18 kB)\n",
      "Collecting rsa<5,>=3.1.4\n",
      "  Downloading rsa-4.7.2-py3-none-any.whl (34 kB)\n",
      "Collecting pyasn1-modules>=0.2.1\n",
      "  Downloading pyasn1_modules-0.2.8-py2.py3-none-any.whl (155 kB)\n",
      "\u001b[K     |████████████████████████████████| 155 kB 21.9 MB/s eta 0:00:01\n",
      "\u001b[?25hCollecting cachetools<5.0,>=2.0.0\n",
      "  Downloading cachetools-4.2.2-py3-none-any.whl (11 kB)\n",
      "Collecting requests-oauthlib>=0.7.0\n",
      "  Downloading requests_oauthlib-1.3.0-py2.py3-none-any.whl (23 kB)\n",
      "Collecting pyasn1<0.5.0,>=0.4.6\n",
      "  Downloading pyasn1-0.4.8-py2.py3-none-any.whl (77 kB)\n",
      "\u001b[K     |████████████████████████████████| 77 kB 10.2 MB/s eta 0:00:01\n",
      "\u001b[?25hRequirement already satisfied: idna<3,>=2.5 in /opt/conda/lib/python3.8/site-packages (from requests<3,>=2.21.0->tensorboard~=2.5->tensorflow) (2.10)\n",
      "Requirement already satisfied: certifi>=2017.4.17 in /opt/conda/lib/python3.8/site-packages (from requests<3,>=2.21.0->tensorboard~=2.5->tensorflow) (2020.12.5)\n",
      "Requirement already satisfied: urllib3<1.27,>=1.21.1 in /opt/conda/lib/python3.8/site-packages (from requests<3,>=2.21.0->tensorboard~=2.5->tensorflow) (1.26.3)\n",
      "Requirement already satisfied: chardet<5,>=3.0.2 in /opt/conda/lib/python3.8/site-packages (from requests<3,>=2.21.0->tensorboard~=2.5->tensorflow) (4.0.0)\n",
      "Requirement already satisfied: oauthlib>=3.0.0 in /opt/conda/lib/python3.8/site-packages (from requests-oauthlib>=0.7.0->google-auth-oauthlib<0.5,>=0.4.1->tensorboard~=2.5->tensorflow) (3.0.1)\n",
      "Building wheels for collected packages: termcolor, wrapt\n",
      "  Building wheel for termcolor (setup.py) ... \u001b[?25ldone\n",
      "\u001b[?25h  Created wheel for termcolor: filename=termcolor-1.1.0-py3-none-any.whl size=4829 sha256=8669830b69d912394a5b11e71556883b6d64acc27a9e638728741f854528ea7c\n",
      "  Stored in directory: /home/jovyan/.cache/pip/wheels/a0/16/9c/5473df82468f958445479c59e784896fa24f4a5fc024b0f501\n",
      "  Building wheel for wrapt (setup.py) ... \u001b[?25ldone\n",
      "\u001b[?25h  Created wheel for wrapt: filename=wrapt-1.12.1-cp38-cp38-linux_x86_64.whl size=81767 sha256=84b2198468b7af8a8122a7aecf35b0c6478be4bc15ba9cf31bf5169596463cac\n",
      "  Stored in directory: /home/jovyan/.cache/pip/wheels/5f/fd/9e/b6cf5890494cb8ef0b5eaff72e5d55a70fb56316007d6dfe73\n",
      "Successfully built termcolor wrapt\n",
      "Installing collected packages: pyasn1, rsa, pyasn1-modules, cachetools, requests-oauthlib, google-auth, werkzeug, tensorboard-plugin-wit, tensorboard-data-server, numpy, markdown, grpcio, google-auth-oauthlib, absl-py, wrapt, termcolor, tensorflow-estimator, tensorboard, opt-einsum, keras-preprocessing, keras-nightly, google-pasta, gast, flatbuffers, astunparse, tensorflow, keras\n"
     ]
    },
    {
     "name": "stdout",
     "output_type": "stream",
     "text": [
      "  Attempting uninstall: numpy\n",
      "    Found existing installation: numpy 1.20.1\n",
      "    Uninstalling numpy-1.20.1:\n",
      "      Successfully uninstalled numpy-1.20.1\n",
      "Successfully installed absl-py-0.12.0 astunparse-1.6.3 cachetools-4.2.2 flatbuffers-1.12 gast-0.4.0 google-auth-1.30.0 google-auth-oauthlib-0.4.4 google-pasta-0.2.0 grpcio-1.34.1 keras-2.4.3 keras-nightly-2.5.0.dev2021032900 keras-preprocessing-1.1.2 markdown-3.3.4 numpy-1.19.5 opt-einsum-3.3.0 pyasn1-0.4.8 pyasn1-modules-0.2.8 requests-oauthlib-1.3.0 rsa-4.7.2 tensorboard-2.5.0 tensorboard-data-server-0.6.1 tensorboard-plugin-wit-1.8.0 tensorflow-2.5.0 tensorflow-estimator-2.5.0 termcolor-1.1.0 werkzeug-2.0.1 wrapt-1.12.1\n"
     ]
    }
   ],
   "source": [
    "!pip install tensorflow keras Pillow"
   ]
  },
  {
   "cell_type": "code",
   "execution_count": 5,
   "metadata": {
    "colab": {},
    "colab_type": "code",
    "id": "sCV30xyVhFbE"
   },
   "outputs": [],
   "source": [
    "import tensorflow as tf\n",
    "from tensorflow.keras.preprocessing.image import ImageDataGenerator\n",
    "import numpy as np\n",
    "from tensorflow.keras.preprocessing import image"
   ]
  },
  {
   "cell_type": "markdown",
   "metadata": {
    "colab_type": "text",
    "id": "MvE-heJNo3GG"
   },
   "source": [
    "### Preprocessing the Training set and splitting the test set"
   ]
  },
  {
   "cell_type": "code",
   "execution_count": 17,
   "metadata": {
    "colab": {},
    "colab_type": "code",
    "id": "0koUcJMJpEBD"
   },
   "outputs": [
    {
     "name": "stdout",
     "output_type": "stream",
     "text": [
      "Found 878 images belonging to 33 classes.\n",
      "Found 351 images belonging to 33 classes.\n"
     ]
    }
   ],
   "source": [
    "train_datagen = ImageDataGenerator(rescale = 1./255,\n",
    "                                   shear_range = 0.2,\n",
    "                                   zoom_range = 0.2,\n",
    "                                   horizontal_flip = True,\n",
    "                                   validation_split=0.3\n",
    "                                  )\n",
    "training_set = train_datagen.flow_from_directory(\n",
    "    'initial-dataset',\n",
    "    target_size = (64, 64),\n",
    "    batch_size = 64,\n",
    "    class_mode = 'categorical',\n",
    "    subset='training') # set as training data\n",
    "\n",
    "test_set = train_datagen.flow_from_directory(\n",
    "    'initial-dataset',\n",
    "    target_size = (64, 64),\n",
    "    batch_size = 64,\n",
    "    class_mode = 'categorical',\n",
    "    subset='validation') # set as validation data\n"
   ]
  },
  {
   "cell_type": "markdown",
   "metadata": {
    "colab_type": "text",
    "id": "ces1gXY2lmoX"
   },
   "source": [
    "### Initialising the CNN"
   ]
  },
  {
   "cell_type": "code",
   "execution_count": 18,
   "metadata": {
    "colab": {},
    "colab_type": "code",
    "id": "SAUt4UMPlhLS"
   },
   "outputs": [],
   "source": [
    "cnn = tf.keras.models.Sequential()"
   ]
  },
  {
   "cell_type": "markdown",
   "metadata": {
    "colab_type": "text",
    "id": "u5YJj_XMl5LF"
   },
   "source": [
    "###  Convolution"
   ]
  },
  {
   "cell_type": "code",
   "execution_count": 19,
   "metadata": {
    "colab": {},
    "colab_type": "code",
    "id": "XPzPrMckl-hV"
   },
   "outputs": [],
   "source": [
    "cnn.add(tf.keras.layers.Conv2D(filters=33, kernel_size=(5,5), activation='relu', input_shape=[64, 64, 3]))\n",
    "cnn.add(tf.keras.layers.Conv2D(filters=33, kernel_size=(5,5), activation='relu'))"
   ]
  },
  {
   "cell_type": "markdown",
   "metadata": {
    "colab_type": "text",
    "id": "tf87FpvxmNOJ"
   },
   "source": [
    "###  Pooling"
   ]
  },
  {
   "cell_type": "code",
   "execution_count": 20,
   "metadata": {
    "colab": {},
    "colab_type": "code",
    "id": "ncpqPl69mOac"
   },
   "outputs": [],
   "source": [
    "cnn.add(tf.keras.layers.MaxPool2D(pool_size=2, strides=2))\n",
    "cnn.add(tf.keras.layers.Dropout(rate=0.25))\n"
   ]
  },
  {
   "cell_type": "markdown",
   "metadata": {
    "colab_type": "text",
    "id": "xaTOgD8rm4mU"
   },
   "source": [
    "### Adding a second convolutional layer"
   ]
  },
  {
   "cell_type": "code",
   "execution_count": 21,
   "metadata": {
    "colab": {},
    "colab_type": "code",
    "id": "i_-FZjn_m8gk"
   },
   "outputs": [],
   "source": [
    "\n",
    "cnn.add(tf.keras.layers.Conv2D(filters=64, kernel_size=(3, 3), activation='relu'))\n",
    "cnn.add(tf.keras.layers.Conv2D(filters=64, kernel_size=(3, 3), activation='relu'))\n",
    "cnn.add(tf.keras.layers.MaxPool2D(pool_size=(2, 2)))\n",
    "cnn.add(tf.keras.layers.Dropout(rate=0.25))"
   ]
  },
  {
   "cell_type": "markdown",
   "metadata": {
    "colab_type": "text",
    "id": "tmiEuvTunKfk"
   },
   "source": [
    "### Flattening"
   ]
  },
  {
   "cell_type": "code",
   "execution_count": 22,
   "metadata": {
    "colab": {},
    "colab_type": "code",
    "id": "6AZeOGCvnNZn"
   },
   "outputs": [],
   "source": [
    "cnn.add(tf.keras.layers.Flatten())"
   ]
  },
  {
   "cell_type": "markdown",
   "metadata": {
    "colab_type": "text",
    "id": "yTldFvbX28Na"
   },
   "source": [
    "### Output Layer"
   ]
  },
  {
   "cell_type": "code",
   "execution_count": 23,
   "metadata": {
    "colab": {},
    "colab_type": "code",
    "id": "1p_Zj1Mc3Ko_"
   },
   "outputs": [],
   "source": [
    "cnn.add(tf.keras.layers.Dropout(rate=0.5))\n",
    "cnn.add(tf.keras.layers.Dense(33, activation='softmax'))"
   ]
  },
  {
   "cell_type": "markdown",
   "metadata": {
    "colab_type": "text",
    "id": "D6XkI90snSDl"
   },
   "source": [
    "## Training and evaluating the CNN"
   ]
  },
  {
   "cell_type": "code",
   "execution_count": 24,
   "metadata": {
    "colab": {},
    "colab_type": "code",
    "id": "XUj1W4PJptta"
   },
   "outputs": [
    {
     "name": "stdout",
     "output_type": "stream",
     "text": [
      "Epoch 1/25\n",
      "14/14 [==============================] - 13s 873ms/step - loss: 2.8327 - accuracy: 0.2688 - val_loss: 2.8008 - val_accuracy: 0.3248\n",
      "Epoch 2/25\n",
      "14/14 [==============================] - 8s 540ms/step - loss: 2.6132 - accuracy: 0.3052 - val_loss: 2.6914 - val_accuracy: 0.3248\n",
      "Epoch 3/25\n",
      "14/14 [==============================] - 8s 546ms/step - loss: 2.5142 - accuracy: 0.3052 - val_loss: 2.5758 - val_accuracy: 0.3248\n",
      "Epoch 4/25\n",
      "14/14 [==============================] - 8s 547ms/step - loss: 2.3141 - accuracy: 0.3257 - val_loss: 2.2145 - val_accuracy: 0.5726\n",
      "Epoch 5/25\n",
      "14/14 [==============================] - 8s 557ms/step - loss: 2.0417 - accuracy: 0.4260 - val_loss: 1.8887 - val_accuracy: 0.6154\n",
      "Epoch 6/25\n",
      "14/14 [==============================] - 8s 563ms/step - loss: 1.6629 - accuracy: 0.5638 - val_loss: 1.3799 - val_accuracy: 0.6610\n",
      "Epoch 7/25\n",
      "14/14 [==============================] - 8s 556ms/step - loss: 1.2403 - accuracy: 0.6515 - val_loss: 0.9802 - val_accuracy: 0.7379\n",
      "Epoch 8/25\n",
      "14/14 [==============================] - 8s 559ms/step - loss: 0.8719 - accuracy: 0.7335 - val_loss: 0.5825 - val_accuracy: 0.8376\n",
      "Epoch 9/25\n",
      "14/14 [==============================] - 8s 564ms/step - loss: 0.7296 - accuracy: 0.7768 - val_loss: 0.5977 - val_accuracy: 0.8091\n",
      "Epoch 10/25\n",
      "14/14 [==============================] - 8s 563ms/step - loss: 0.5856 - accuracy: 0.8189 - val_loss: 0.4166 - val_accuracy: 0.8803\n",
      "Epoch 11/25\n",
      "14/14 [==============================] - 8s 563ms/step - loss: 0.5145 - accuracy: 0.8405 - val_loss: 0.3923 - val_accuracy: 0.8775\n",
      "Epoch 12/25\n",
      "14/14 [==============================] - 8s 539ms/step - loss: 0.4576 - accuracy: 0.8633 - val_loss: 0.3122 - val_accuracy: 0.9031\n",
      "Epoch 13/25\n",
      "14/14 [==============================] - 8s 555ms/step - loss: 0.4669 - accuracy: 0.8474 - val_loss: 0.3219 - val_accuracy: 0.8803\n",
      "Epoch 14/25\n",
      "14/14 [==============================] - 8s 557ms/step - loss: 0.3927 - accuracy: 0.8759 - val_loss: 0.3490 - val_accuracy: 0.8519\n",
      "Epoch 15/25\n",
      "14/14 [==============================] - 8s 558ms/step - loss: 0.3241 - accuracy: 0.8964 - val_loss: 0.2596 - val_accuracy: 0.9145\n",
      "Epoch 16/25\n",
      "14/14 [==============================] - 8s 587ms/step - loss: 0.3062 - accuracy: 0.8941 - val_loss: 0.2551 - val_accuracy: 0.9316\n",
      "Epoch 17/25\n",
      "14/14 [==============================] - 8s 592ms/step - loss: 0.2640 - accuracy: 0.9157 - val_loss: 0.2083 - val_accuracy: 0.9288\n",
      "Epoch 18/25\n",
      "14/14 [==============================] - 8s 555ms/step - loss: 0.2192 - accuracy: 0.9191 - val_loss: 0.1787 - val_accuracy: 0.9288\n",
      "Epoch 19/25\n",
      "14/14 [==============================] - 8s 572ms/step - loss: 0.2148 - accuracy: 0.9317 - val_loss: 0.1958 - val_accuracy: 0.9174\n",
      "Epoch 20/25\n",
      "14/14 [==============================] - 8s 564ms/step - loss: 0.2775 - accuracy: 0.9077 - val_loss: 0.1888 - val_accuracy: 0.9345\n",
      "Epoch 21/25\n",
      "14/14 [==============================] - 8s 559ms/step - loss: 0.3202 - accuracy: 0.8975 - val_loss: 0.2300 - val_accuracy: 0.9202\n",
      "Epoch 22/25\n",
      "14/14 [==============================] - 8s 555ms/step - loss: 0.2366 - accuracy: 0.9237 - val_loss: 0.1931 - val_accuracy: 0.9202\n",
      "Epoch 23/25\n",
      "14/14 [==============================] - 8s 574ms/step - loss: 0.2149 - accuracy: 0.9339 - val_loss: 0.1845 - val_accuracy: 0.9259\n",
      "Epoch 24/25\n",
      "14/14 [==============================] - 8s 572ms/step - loss: 0.1698 - accuracy: 0.9476 - val_loss: 0.1890 - val_accuracy: 0.9259\n",
      "Epoch 25/25\n",
      "14/14 [==============================] - 8s 556ms/step - loss: 0.1647 - accuracy: 0.9499 - val_loss: 0.1595 - val_accuracy: 0.9316\n"
     ]
    },
    {
     "data": {
      "text/plain": [
       "<tensorflow.python.keras.callbacks.History at 0x7f1a867c8b50>"
      ]
     },
     "execution_count": 24,
     "metadata": {},
     "output_type": "execute_result"
    }
   ],
   "source": [
    "cnn.compile(optimizer = 'adam', loss = 'categorical_crossentropy', metrics = ['accuracy'])\n",
    "cnn.fit(x = training_set, validation_data = test_set, epochs = 25)"
   ]
  },
  {
   "cell_type": "markdown",
   "metadata": {
    "colab_type": "text",
    "id": "U3PZasO0006Z"
   },
   "source": [
    "## Making a single prediction"
   ]
  },
  {
   "cell_type": "code",
   "execution_count": 28,
   "metadata": {},
   "outputs": [],
   "source": [
    "possible_classes = {'altura maxima permitida': 0, 'area reservada para motos': 1, 'desvio a frente': 2,\n",
    "         'estreitamento de pista': 3, 'fiscalizacao eletronica horizontal 60 km': 4, \n",
    "         'fiscalizacao eletronica vertical 50 km': 5, 'fiscalizacao eletronica vertical 60 km': 6, \n",
    "         'lombada': 7, 'marcas de perigo': 8, 'pare': 9, 'passagem sinalizada de escolares': 10, \n",
    "         'passagem sinalizada de pedestres': 11, 'placa de orientacao de destino': 12, 'ponto de onibus': 13, \n",
    "         'proibido estacionar': 14, 'proibido parar e estacionar': 15, 'proibido retornar a esquerda': 16, \n",
    "         'proibido trafego de caminhoes': 17, 'proibido virar a direita': 18, \n",
    "         'proibido virar a direita veiculos pesados': 19, 'proibido virar a esquerda': 20, 'rotatoria': 21, \n",
    "         'rotatoria a frente': 22, 'semaforo a frente': 23, 'siga em frente': 24, 'siga em frente ou a direita': 25,\n",
    "          'siga em frente ou a esquerda': 26, 'velocidade maxima 30 km': 27, 'velocidade maxima 40 km': 28, \n",
    "          'velocidade maxima 50 km': 29, 'velocidade maxima 60 km': 30, 'vire a direita': 31, 'vire a esquerda': 32}"
   ]
  },
  {
   "cell_type": "code",
   "execution_count": 31,
   "metadata": {
    "colab": {},
    "colab_type": "code",
    "id": "gsSiWEJY1BPB"
   },
   "outputs": [
    {
     "name": "stdout",
     "output_type": "stream",
     "text": [
      "O resultado é: lombada\n"
     ]
    }
   ],
   "source": [
    "\n",
    "test_image = image.load_img('web/static/uploaded_images/lombada.jpg', target_size = (64, 64))\n",
    "test_image = image.img_to_array(test_image)\n",
    "test_image = np.expand_dims(test_image, axis = 0)\n",
    "result = cnn.predict(test_image)\n",
    "inv_map = {v: k for k, v in possible_classes.items()}\n",
    "result = inv_map[np.where(result == 1)[1][0]]\n",
    "print(\"O resultado é: \"+result)"
   ]
  },
  {
   "cell_type": "markdown",
   "metadata": {},
   "source": [
    "## Persisting the model"
   ]
  },
  {
   "cell_type": "code",
   "execution_count": null,
   "metadata": {},
   "outputs": [],
   "source": [
    "cnn.save('saved_model/traffic_signs_model')\n"
   ]
  },
  {
   "cell_type": "markdown",
   "metadata": {},
   "source": [
    "## Fim"
   ]
  }
 ],
 "metadata": {
  "colab": {
   "collapsed_sections": [],
   "name": "convolutional_neural_network.ipynb",
   "provenance": [],
   "toc_visible": true
  },
  "kernelspec": {
   "display_name": "Python 3",
   "language": "python",
   "name": "python3"
  },
  "language_info": {
   "codemirror_mode": {
    "name": "ipython",
    "version": 3
   },
   "file_extension": ".py",
   "mimetype": "text/x-python",
   "name": "python",
   "nbconvert_exporter": "python",
   "pygments_lexer": "ipython3",
   "version": "3.8.8"
  }
 },
 "nbformat": 4,
 "nbformat_minor": 4
}
